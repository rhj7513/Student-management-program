{
  "nbformat": 4,
  "nbformat_minor": 0,
  "metadata": {
    "colab": {
      "name": "Untitled2.ipynb",
      "provenance": [],
      "authorship_tag": "ABX9TyP774weV7eM7dlJCQP9ykcu",
      "include_colab_link": true
    },
    "kernelspec": {
      "name": "python3",
      "display_name": "Python 3"
    },
    "language_info": {
      "name": "python"
    }
  },
  "cells": [
    {
      "cell_type": "markdown",
      "metadata": {
        "id": "view-in-github",
        "colab_type": "text"
      },
      "source": [
        "<a href=\"https://colab.research.google.com/github/rhj7513/Student-management-program/blob/main/Student%20management%20program.ipynb\" target=\"_parent\"><img src=\"https://colab.research.google.com/assets/colab-badge.svg\" alt=\"Open In Colab\"/></a>"
      ]
    },
    {
      "cell_type": "code",
      "execution_count": 1,
      "metadata": {
        "colab": {
          "base_uri": "https://localhost:8080/"
        },
        "id": "m67VYQA2ppG2",
        "outputId": "ff16212f-6a1a-4912-9551-e92c173329e6"
      },
      "outputs": [
        {
          "output_type": "stream",
          "name": "stdout",
          "text": [
            "=====성적 관리 프로그램=====\n",
            "1.정보 입력 2.검색 3.출력 4.삭제 5.종료\n",
            "1\n",
            "실행\n",
            "반, 이름, 국어, 수학, 영어 점수를 입력해주세요.\n",
            "1 류희정 10 20 30\n",
            "[['1', '류희정', '10', '20', '30', 20.0]]\n"
          ]
        }
      ],
      "source": [
        "def infoinput(person):                                                             #정보입력 함수\n",
        "    print(\"반, 이름, 국어, 수학, 영어 점수를 입력해주세요.\")\n",
        "    human = list((input().split()))                                                #human리스트 생성  반(str), 이름(Str), 국어(str), 수학(Str), 영어(Str) 점수 입력 받음\n",
        "    human.append((int(human[2])+int(human[3])+int(human[4]))/3)                    #human리스트에 값 넣어줘 (list2, 3, 4값 더하고 나눠서 평균 받아)\n",
        "    person.append(human)                                                           #person리스트에 값 넣어줘 (human \\를)\n",
        "    return person                                                                  #return해줘 person을\n",
        "\n",
        "person = []                                                                        #사람 리스트 생성\n",
        "print(\"=====성적 관리 프로그램=====\")                                              #여기 부터 시작\n",
        "print(\"1.정보 입력 2.검색 3.출력 4.삭제 5.종료\")\n",
        "choice = int(input())                                                              #숫자 입력 받아서 1이면 정보입력 2면 검색...\n",
        "if choice == 1:\n",
        "    print(\"실행\")\n",
        "    infoinput(person)                                                              #infoinput함수 불러오는데 person리스트 값 넘겨줌\n",
        "    print(person)\n",
        "elif choice ==2:\n",
        "    print(\"Dddd\")\n",
        "    # search()\n",
        "elif choice ==3:\n",
        "    print(\"Dddd\")\n",
        "    # output()\n",
        "elif choice ==4:\n",
        "    print(\"Dddd\")\n",
        "    # delete()\n",
        "elif choice ==5:\n",
        "    print(\"프로그램을 종료합니다.\")\n",
        "\n",
        "\n",
        "# def search():\n",
        "# def output():\n",
        "# def delete():\n",
        "# while True:"
      ]
    }
  ]
}